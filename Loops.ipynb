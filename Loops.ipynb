{
  "nbformat": 4,
  "nbformat_minor": 0,
  "metadata": {
    "kernelspec": {
      "name": "python3",
      "display_name": "Python 3"
    },
    "colab": {
      "name": "Loops.ipynb",
      "provenance": [],
      "collapsed_sections": []
    }
  },
  "cells": [
    {
      "cell_type": "markdown",
      "metadata": {
        "id": "jSPnkGyuaeGM"
      },
      "source": [
        "<h1>Loops in Python</h1>"
      ]
    },
    {
      "cell_type": "markdown",
      "metadata": {
        "id": "zYjvBwBraeGN"
      },
      "source": [
        "<p><strong>Welcome!</strong> This notebook will teach you about the loops in the Python Programming Language. By the end of this lab, you'll know how to use the loop statements in Python, including for loop, and while loop.</p>"
      ]
    },
    {
      "cell_type": "markdown",
      "metadata": {
        "id": "2pn3jM1SaeGO"
      },
      "source": [
        "<h2>Table of Contents</h2>\n",
        "<div class=\"alert alert-block alert-info\" style=\"margin-top: 20px\">\n",
        "    <ul>\n",
        "        <li>\n",
        "            <a href=\"#loop\">Loops</a>\n",
        "            <ul>\n",
        "                <li><a href=\"range\">Range</a></li>\n",
        "                <li><a href=\"for\">What is <code>for</code> loop?</a></li>\n",
        "                <li><a href=\"while\">What is <code>while</code> loop?</a></li>\n",
        "            </ul>\n",
        "        </li>\n",
        "        <li>\n",
        "            <a href=\"#quiz\">Quiz on Loops</a>\n",
        "        </li>\n",
        "    </ul>\n",
        "    <p>\n",
        "        Estimated time needed: <strong>20 min</strong>\n",
        "    </p>\n",
        "</div>\n",
        "\n",
        "<hr>"
      ]
    },
    {
      "cell_type": "markdown",
      "metadata": {
        "id": "OSoUUvlAaeGP"
      },
      "source": [
        "<h2 id=\"loop\">Loops</h2>"
      ]
    },
    {
      "cell_type": "markdown",
      "metadata": {
        "id": "yNpihGUJaeGQ"
      },
      "source": [
        "<h3 id=\"range\">Range</h3>"
      ]
    },
    {
      "cell_type": "markdown",
      "metadata": {
        "id": "j7SAssBXaeGR"
      },
      "source": [
        "Sometimes, you might want to repeat a given operation many times. Repeated executions like this are performed by <b>loops</b>. We will look at two types of loops, <code>for</code> loops and <code>while</code> loops.\n",
        "\n",
        "Before we discuss loops lets discuss the <code>range</code> object. It is helpful to think of the range object as an ordered list. For now, let's look at the simplest case. If we would like to generate a sequence that contains three elements ordered from 0 to 2 we simply use the following command:"
      ]
    },
    {
      "cell_type": "code",
      "metadata": {
        "jupyter": {
          "outputs_hidden": false
        },
        "id": "HazdmcDMaeGT",
        "colab": {
          "base_uri": "https://localhost:8080/"
        },
        "outputId": "65bf00fd-0ce3-43f8-9472-8c21647ac3fe"
      },
      "source": [
        "# Use the range\n",
        "\n",
        "range(4)"
      ],
      "execution_count": null,
      "outputs": [
        {
          "output_type": "execute_result",
          "data": {
            "text/plain": [
              "range(0, 4)"
            ]
          },
          "metadata": {},
          "execution_count": 2
        }
      ]
    },
    {
      "cell_type": "markdown",
      "metadata": {
        "id": "cBNeWnQbaeGX"
      },
      "source": [
        "<img src=\"https://s3-api.us-geo.objectstorage.softlayer.net/cf-courses-data/CognitiveClass/PY0101EN/Chapter%203/Images/LoopsRange.png\" width=\"300\" />"
      ]
    },
    {
      "cell_type": "markdown",
      "metadata": {
        "id": "CIaHAftXaeGY"
      },
      "source": [
        "<h3 id=\"for\">What is <code>for</code> loop?</h3>"
      ]
    },
    {
      "cell_type": "markdown",
      "metadata": {
        "id": "anh2Z38naeGa"
      },
      "source": [
        "The <code>for</code> loop enables you to execute a code block multiple times. For example, you would use this if you would like to print out every element in a list.    \n",
        "Let's try to use a <code>for</code> loop to print all the years presented in the list <code>dates</code>:"
      ]
    },
    {
      "cell_type": "markdown",
      "metadata": {
        "id": "VoidzhdvaeGc"
      },
      "source": [
        "This can be done as follows:"
      ]
    },
    {
      "cell_type": "code",
      "metadata": {
        "jupyter": {
          "outputs_hidden": false
        },
        "id": "hn2NsL1IaeGd",
        "colab": {
          "base_uri": "https://localhost:8080/"
        },
        "outputId": "50ed4451-f047-49a0-80f9-d54c8ecaaca1"
      },
      "source": [
        "# For loop example\n",
        "\n",
        "dates = [1982,1980,1973]\n",
        "N = len(dates)\n",
        "print(N)\n",
        "\n",
        "for i in range(N):\n",
        "    print(dates[i])     "
      ],
      "execution_count": null,
      "outputs": [
        {
          "output_type": "stream",
          "text": [
            "3\n",
            "1982\n",
            "1980\n",
            "1973\n"
          ],
          "name": "stdout"
        }
      ]
    },
    {
      "cell_type": "markdown",
      "metadata": {
        "id": "qShIBAm8aeGe"
      },
      "source": [
        "The code in the indent is executed <code>N</code> times, each time the value of <code>i</code> is increased by 1 for every execution. The statement executed is to <code>print</code> out the value in the list at index <code>i</code> as shown here:"
      ]
    },
    {
      "cell_type": "markdown",
      "metadata": {
        "id": "mzehgbdYaeGf"
      },
      "source": [
        "<img src=\"https://s3-api.us-geo.objectstorage.softlayer.net/cf-courses-data/CognitiveClass/PY0101EN/Chapter%203/Images/LoopsForRange.gif\" width=\"800\" />"
      ]
    },
    {
      "cell_type": "markdown",
      "metadata": {
        "id": "wpWGv0ThaeGf"
      },
      "source": [
        "In this example we can print out a sequence of numbers from 0 to 7:"
      ]
    },
    {
      "cell_type": "code",
      "metadata": {
        "jupyter": {
          "outputs_hidden": false
        },
        "id": "77rF9PkKaeGg",
        "outputId": "7c073375-82a7-4407-ead0-7f55e405f029",
        "colab": {
          "base_uri": "https://localhost:8080/"
        }
      },
      "source": [
        "# Example of for loop\n",
        "\n",
        "for i in range(0, 8):\n",
        "    print(i)"
      ],
      "execution_count": null,
      "outputs": [
        {
          "output_type": "stream",
          "name": "stdout",
          "text": [
            "0\n",
            "1\n",
            "2\n",
            "3\n",
            "4\n",
            "5\n",
            "6\n",
            "7\n"
          ]
        }
      ]
    },
    {
      "cell_type": "markdown",
      "metadata": {
        "id": "A3qJ1wg_aeGh"
      },
      "source": [
        "In Python we can directly access the elements in the list as follows: "
      ]
    },
    {
      "cell_type": "code",
      "metadata": {
        "jupyter": {
          "outputs_hidden": false
        },
        "id": "M9gqBdHHaeGi",
        "outputId": "18e4eb47-ca91-41f5-ee44-b81d9394d04f"
      },
      "source": [
        "# Exmaple of for loop, loop through list\n",
        "\n",
        "for year in dates:  \n",
        "    print(year)   "
      ],
      "execution_count": null,
      "outputs": [
        {
          "output_type": "stream",
          "text": [
            "1982\n",
            "1980\n",
            "1973\n"
          ],
          "name": "stdout"
        }
      ]
    },
    {
      "cell_type": "markdown",
      "metadata": {
        "id": "Rni6py6faeGj"
      },
      "source": [
        "For each iteration, the value of the variable <code>years</code> behaves like the value of <code>dates[i]</code> in the  first example:"
      ]
    },
    {
      "cell_type": "markdown",
      "metadata": {
        "id": "vuSiyqHaaeGk"
      },
      "source": [
        "<img src=\"https://s3-api.us-geo.objectstorage.softlayer.net/cf-courses-data/CognitiveClass/PY0101EN/Chapter%203/Images/LoopsForList.gif\" width=\"800\">"
      ]
    },
    {
      "cell_type": "code",
      "source": [
        "#fruits = [\"apple\", \"banana\", \"cherry\"]\n",
        "snacks = [\"chats\",\"samosa\", \"biscuits\",\"momos\",\"chocolates\",\"oats\"]\n",
        "for menu in snacks:\n",
        "  if (menu[0] == \"b\"):\n",
        "    print(menu)\n",
        "#for x in fruits:\n",
        "#  print(x)"
      ],
      "metadata": {
        "colab": {
          "base_uri": "https://localhost:8080/"
        },
        "id": "E_xgDmeMgYRO",
        "outputId": "1757dd2e-7295-434f-c7ab-efba1f9db465"
      },
      "execution_count": null,
      "outputs": [
        {
          "output_type": "stream",
          "name": "stdout",
          "text": [
            "biscuits\n"
          ]
        }
      ]
    },
    {
      "cell_type": "markdown",
      "metadata": {
        "id": "AaZqe9nraeGl"
      },
      "source": [
        "We can change the elements in a list:"
      ]
    },
    {
      "cell_type": "code",
      "metadata": {
        "jupyter": {
          "outputs_hidden": false
        },
        "id": "2Dshs-KMaeGm",
        "outputId": "11efcbd7-8824-454f-9da6-d7d2ad59f355",
        "colab": {
          "base_uri": "https://localhost:8080/"
        }
      },
      "source": [
        "# Use for loop to change the elements in list\n",
        "\n",
        "squares = ['red', 'yellow', 'green', 'purple', 'blue']\n",
        "\n",
        "for i in range(0, 5):\n",
        "    print(\"Before square \", i, 'is',  squares[i])\n",
        "    squares[i] = 'white'\n",
        "    print(\"After square \", i, 'is',  squares[i])"
      ],
      "execution_count": null,
      "outputs": [
        {
          "output_type": "stream",
          "name": "stdout",
          "text": [
            "Before square  0 is red\n",
            "After square  0 is white\n",
            "Before square  1 is yellow\n",
            "After square  1 is white\n",
            "Before square  2 is green\n",
            "After square  2 is white\n",
            "Before square  3 is purple\n",
            "After square  3 is white\n",
            "Before square  4 is blue\n",
            "After square  4 is white\n"
          ]
        }
      ]
    },
    {
      "cell_type": "markdown",
      "metadata": {
        "id": "KJz2NBs8aeGn"
      },
      "source": [
        " We can access the index and the elements of a list as follows: "
      ]
    },
    {
      "cell_type": "code",
      "metadata": {
        "jupyter": {
          "outputs_hidden": false
        },
        "id": "GggOt0VdaeGo",
        "outputId": "e3ea255b-2b0d-4675-a7cc-f0f50fbd8e62"
      },
      "source": [
        "# Loop through the list and iterate on both index and element value\n",
        "\n",
        "squares=['red', 'yellow', 'green', 'purple', 'blue']\n",
        "\n",
        "for i, square in enumerate(squares):\n",
        "    print(i, square)"
      ],
      "execution_count": null,
      "outputs": [
        {
          "output_type": "stream",
          "text": [
            "0 red\n",
            "1 yellow\n",
            "2 green\n",
            "3 purple\n",
            "4 blue\n"
          ],
          "name": "stdout"
        }
      ]
    },
    {
      "cell_type": "markdown",
      "metadata": {
        "id": "r1hppKJhaeGp"
      },
      "source": [
        "<h3 id=\"while\">What is <code>while</code> loop?</h3>"
      ]
    },
    {
      "cell_type": "markdown",
      "metadata": {
        "id": "CQss7zmGaeGr"
      },
      "source": [
        "As you can see, the <code>for</code> loop is used for a controlled flow of repetition. However, what if we don't know when we want to stop the loop? What if we want to keep executing a code block until a certain condition is met? The <code>while</code> loop exists as a tool for repeated execution based on a condition. The code block will keep being executed until the given logical condition returns a **False** boolean value.\n"
      ]
    },
    {
      "cell_type": "markdown",
      "metadata": {
        "id": "pKzHVLBvaeGt"
      },
      "source": [
        "Let’s say we would like to iterate through list <code>dates</code> and stop at the year 1973, then print out the number of iterations. This can be done with the following block of code:"
      ]
    },
    {
      "cell_type": "code",
      "metadata": {
        "jupyter": {
          "outputs_hidden": false
        },
        "id": "a25o6zI_aeG9",
        "colab": {
          "base_uri": "https://localhost:8080/"
        },
        "outputId": "2f738468-17bf-473c-89c9-c0bc71e0e47d"
      },
      "source": [
        "# While Loop Example\n",
        "\n",
        "dates = [1982, 1980, 1973, 2000]\n",
        "\n",
        "i = 0\n",
        "year = 0\n",
        "\n",
        "while(year != 1973):\n",
        "    year = dates[i]\n",
        "    i = i + 1\n",
        "    print(year)\n",
        "\n",
        "print(\"It took \", i ,\"repetitions to get out of loop.\")"
      ],
      "execution_count": null,
      "outputs": [
        {
          "output_type": "stream",
          "text": [
            "1982\n",
            "1980\n",
            "1973\n",
            "It took  3 repetitions to get out of loop.\n"
          ],
          "name": "stdout"
        }
      ]
    },
    {
      "cell_type": "markdown",
      "metadata": {
        "id": "6Ch5YqAkaeG_"
      },
      "source": [
        "A while loop iterates merely until the condition in the argument is not  met, as shown in the following figure:"
      ]
    },
    {
      "cell_type": "markdown",
      "metadata": {
        "id": "f1v03tWMaeG_"
      },
      "source": [
        "<img src=\"https://s3-api.us-geo.objectstorage.softlayer.net/cf-courses-data/CognitiveClass/PY0101EN/Chapter%203/Images/LoopsWhile.gif\" width=\"650\" />"
      ]
    },
    {
      "cell_type": "code",
      "source": [
        "while True:\n",
        "  line = input('> ')\n",
        "  if line == 'done':\n",
        "    break\n",
        "  print(line)\n",
        "print('Done!')"
      ],
      "metadata": {
        "colab": {
          "base_uri": "https://localhost:8080/"
        },
        "id": "ULxwwKmmc8vv",
        "outputId": "3c5fd4cd-8b27-4407-d58f-6dd14f3fd318"
      },
      "execution_count": null,
      "outputs": [
        {
          "output_type": "stream",
          "name": "stdout",
          "text": [
            "> Hello\n",
            "Hello\n",
            "> done\n",
            "Done!\n"
          ]
        }
      ]
    },
    {
      "cell_type": "code",
      "source": [
        "i = 0\n",
        "while i < 6:\n",
        "  print(i)\n",
        "#increment  \n",
        "  i += 1"
      ],
      "metadata": {
        "colab": {
          "base_uri": "https://localhost:8080/"
        },
        "id": "6Itrh80ae5Gw",
        "outputId": "8a5497e1-d258-4579-9bc9-f2017277fdfc"
      },
      "execution_count": null,
      "outputs": [
        {
          "output_type": "stream",
          "name": "stdout",
          "text": [
            "0\n",
            "1\n",
            "2\n",
            "3\n",
            "4\n",
            "5\n"
          ]
        }
      ]
    },
    {
      "cell_type": "code",
      "source": [
        "i = 1\n",
        "while i < 6:\n",
        "  print(i)\n",
        "  if i == 3:\n",
        "    break\n",
        "  i += 1"
      ],
      "metadata": {
        "colab": {
          "base_uri": "https://localhost:8080/"
        },
        "id": "WN1T9ubJfdpB",
        "outputId": "d9ab321e-6131-4e40-a494-c2bbbba4b7bb"
      },
      "execution_count": null,
      "outputs": [
        {
          "output_type": "stream",
          "name": "stdout",
          "text": [
            "1\n",
            "2\n",
            "3\n"
          ]
        }
      ]
    },
    {
      "cell_type": "markdown",
      "metadata": {
        "id": "E-n9HPv0aeHA"
      },
      "source": [
        "<hr>"
      ]
    },
    {
      "cell_type": "markdown",
      "metadata": {
        "id": "hpbuUgkmW4_p"
      },
      "source": [
        "Panidrome Test"
      ]
    },
    {
      "cell_type": "code",
      "metadata": {
        "colab": {
          "base_uri": "https://localhost:8080/"
        },
        "id": "6OPJNFFEXAQS",
        "outputId": "9959fd0b-51e8-44da-f99c-792fe86e92c1"
      },
      "source": [
        "\"malayalam\"[::-1]\n",
        "\"12022021\"[::6]\n",
        "x=\"malayalam\"\n",
        "#y=reversed(x)\n",
        "y=\"\".join(reversed(x))\n",
        "print(y)\n",
        "if x==y:\n",
        "  print(\"Yes. It is palindrome\")\n",
        "else:\n",
        "  print(\"No. It is not a palindrome\")"
      ],
      "execution_count": null,
      "outputs": [
        {
          "output_type": "stream",
          "text": [
            "malayalam\n",
            "Yes. It is palindrome\n"
          ],
          "name": "stdout"
        }
      ]
    },
    {
      "cell_type": "code",
      "metadata": {
        "colab": {
          "base_uri": "https://localhost:8080/",
          "height": 35
        },
        "id": "1U7MwdVdpjq8",
        "outputId": "ffef1260-3438-431d-b5d7-14251f40ce36"
      },
      "source": [
        "\"DOG\"[::-1]"
      ],
      "execution_count": null,
      "outputs": [
        {
          "output_type": "execute_result",
          "data": {
            "application/vnd.google.colaboratory.intrinsic+json": {
              "type": "string"
            },
            "text/plain": [
              "'GOD'"
            ]
          },
          "metadata": {
            "tags": []
          },
          "execution_count": 81
        }
      ]
    },
    {
      "cell_type": "code",
      "metadata": {
        "colab": {
          "base_uri": "https://localhost:8080/"
        },
        "id": "9tWfBxmpZxCE",
        "outputId": "143eadd5-98e7-4c62-d24c-ecf5bb8c8f4a"
      },
      "source": [
        "S1=\"madam\"\n",
        "S=S1.lower()\n",
        "#i=2\n",
        "#print(S[0])\n",
        "#print(S[-2-i])\n",
        "#print(len(S))\n",
        "#print(9//2)\n",
        "def isPalindrome_1(S):\n",
        "  len_word=len(S)//2\n",
        "#  print(len_word)\n",
        "  for i in range(len_word):\n",
        "    print(S[i],S[-1-i])\n",
        "    if S[i]!=S[-1-i]:\n",
        "     return False\n",
        "  return True\n",
        "#print(isPalindrome_1(S))\n",
        "if isPalindrome_1(S)==True:\n",
        "  print(\"The given string is a Palindrome\")\n",
        "else:\n",
        "  print(\"The given string is not a Palindrome\")\n",
        "  "
      ],
      "execution_count": null,
      "outputs": [
        {
          "output_type": "stream",
          "text": [
            "m m\n",
            "a a\n",
            "The given string is a Palindrome\n"
          ],
          "name": "stdout"
        }
      ]
    },
    {
      "cell_type": "code",
      "metadata": {
        "colab": {
          "base_uri": "https://localhost:8080/"
        },
        "id": "qGwjur6_kRR5",
        "outputId": "49f7886a-dcf8-4771-8803-032397c544b2"
      },
      "source": [
        "x=4\n",
        "y=8\n",
        "x+y"
      ],
      "execution_count": null,
      "outputs": [
        {
          "output_type": "execute_result",
          "data": {
            "text/plain": [
              "12"
            ]
          },
          "metadata": {
            "tags": []
          },
          "execution_count": 64
        }
      ]
    },
    {
      "cell_type": "markdown",
      "metadata": {
        "id": "7vSptwrEaeHB"
      },
      "source": [
        "<h2 id=\"quiz\">Quiz on Loops</h2>"
      ]
    },
    {
      "cell_type": "markdown",
      "metadata": {
        "id": "QsU7u6exmQZX"
      },
      "source": [
        "![IMG-20210127-WA0008.jpg](data:image/jpeg;base64,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)"
      ]
    },
    {
      "cell_type": "markdown",
      "metadata": {
        "id": "3pn1TAb2aeHB"
      },
      "source": [
        "Write a <code>for</code> loop the prints out all the element between <b>-5</b> and <b>5</b> using the range function."
      ]
    },
    {
      "cell_type": "code",
      "metadata": {
        "id": "gCWldlZWaeHC",
        "outputId": "9e5929d2-d8b9-4806-e2d8-b5b09e2a4792"
      },
      "source": [
        "# Write your code below and press Shift+Enter to execute\n",
        "for i in range(-5,6):\n",
        "    print(i)"
      ],
      "execution_count": null,
      "outputs": [
        {
          "output_type": "stream",
          "text": [
            "-5\n",
            "-4\n",
            "-3\n",
            "-2\n",
            "-1\n",
            "0\n",
            "1\n",
            "2\n",
            "3\n",
            "4\n",
            "5\n"
          ],
          "name": "stdout"
        }
      ]
    },
    {
      "cell_type": "markdown",
      "metadata": {
        "id": "N4U1Mmj8aeHD"
      },
      "source": [
        "Double-click __here__ for the solution.\n",
        "<!-- \n",
        "for i in range(-5, 6):\n",
        "    print(i)\n",
        "-->"
      ]
    },
    {
      "cell_type": "markdown",
      "metadata": {
        "id": "rgXcoWHqaeHE"
      },
      "source": [
        "Print the elements of the following list:\n",
        "<code>Genres=[ 'rock', 'R&B', 'Soundtrack', 'R&B', 'soul', 'pop']</code>\n",
        "Make sure you follow Python conventions."
      ]
    },
    {
      "cell_type": "code",
      "metadata": {
        "id": "bE5fXTCNaeHF",
        "colab": {
          "base_uri": "https://localhost:8080/"
        },
        "outputId": "35863a45-995b-473f-8243-505a238cfa5c"
      },
      "source": [
        "# Write your code below and press Shift+Enter to execute\n",
        "Genres=[ 'rock', 'R&B', 'Soundtrack', 'R&B', 'soul', 'pop']\n",
        "for Genre in Genres:\n",
        "    print(Genre)"
      ],
      "execution_count": null,
      "outputs": [
        {
          "output_type": "stream",
          "name": "stdout",
          "text": [
            "rock\n",
            "R&B\n",
            "Soundtrack\n",
            "R&B\n",
            "soul\n",
            "pop\n"
          ]
        }
      ]
    },
    {
      "cell_type": "markdown",
      "metadata": {
        "id": "1xk1LsXNaeHG"
      },
      "source": [
        "Double-click __here__ for the solution.\n",
        "<!-- \n",
        "Genres = ['rock', 'R&B', 'Soundtrack', 'R&B', 'soul', 'pop']\n",
        "for Genre in Genres:\n",
        "    print(Genre)\n",
        "-->"
      ]
    },
    {
      "cell_type": "markdown",
      "metadata": {
        "id": "7K_roDO5aeHG"
      },
      "source": [
        "<hr>"
      ]
    },
    {
      "cell_type": "markdown",
      "metadata": {
        "id": "JCt-jFW2aeHI"
      },
      "source": [
        "Write a for loop that prints out the following list: <code>squares=['red', 'yellow', 'green', 'purple', 'blue']</code>"
      ]
    },
    {
      "cell_type": "code",
      "metadata": {
        "id": "kWSlCmQbaeHJ",
        "outputId": "0ffe85cf-77ad-4cbe-fdb7-be91a738d834",
        "colab": {
          "base_uri": "https://localhost:8080/"
        }
      },
      "source": [
        "# Write your code below and press Shift+Enter to execute\n",
        "squares=['red', 'yellow', 'green', 'purple', 'blue']\n",
        "for square in squares:\n",
        "    print(square)"
      ],
      "execution_count": null,
      "outputs": [
        {
          "output_type": "stream",
          "name": "stdout",
          "text": [
            "red\n",
            "yellow\n",
            "green\n",
            "purple\n",
            "blue\n"
          ]
        }
      ]
    },
    {
      "cell_type": "markdown",
      "metadata": {
        "id": "sji7uZZTaeHM"
      },
      "source": [
        "Double-click __here__ for the solution.\n",
        "<!-- \n",
        "squares=['red', 'yellow', 'green', 'purple', 'blue']\n",
        "for square in squares:\n",
        "    print(square)\n",
        " -->"
      ]
    },
    {
      "cell_type": "markdown",
      "metadata": {
        "id": "DvV5YQPXaeHN"
      },
      "source": [
        "<hr>"
      ]
    },
    {
      "cell_type": "markdown",
      "metadata": {
        "id": "VfZItWgNaeHO"
      },
      "source": [
        "Write a while loop to display the values of the Rating of an album playlist stored in the list <code>PlayListRatings</code>. If the score is less than 6, exit the loop. The list <code>PlayListRatings</code> is given by: <code>PlayListRatings = [10, 9.5, 10, 8, 7.5, 5, 10, 10]</code>"
      ]
    },
    {
      "cell_type": "code",
      "metadata": {
        "id": "XGZ0p0rVaeHT",
        "outputId": "25c4f83b-f380-4b59-dee4-ad8ad244a2ab"
      },
      "source": [
        "# Write your code below and press Shift+Enter to execute\n",
        "PlayListRatings = [10, 9.5, 10, 8, 7.5, 5, 10, 10]\n",
        "i = 1\n",
        "rating = PlayListRatings[0]\n",
        "while(rating >= 6):\n",
        "    print(rating)\n",
        "    rating = PlayListRatings[i]\n",
        "    i = i + 1"
      ],
      "execution_count": null,
      "outputs": [
        {
          "output_type": "stream",
          "text": [
            "10\n",
            "9.5\n",
            "10\n",
            "8\n",
            "7.5\n"
          ],
          "name": "stdout"
        }
      ]
    },
    {
      "cell_type": "markdown",
      "metadata": {
        "id": "0yGPoS_paeHU"
      },
      "source": [
        "Double-click __here__ for the solution.\n",
        "<!-- \n",
        "PlayListRatings = [10, 9.5, 10, 8, 7.5, 5, 10, 10]\n",
        "i = 1\n",
        "Rating = PlayListRatings[0]\n",
        "while(Rating >= 6):\n",
        "    print(Rating)\n",
        "    Rating = PlayListRatings[i]\n",
        "    i = i + 1\n",
        " -->"
      ]
    },
    {
      "cell_type": "markdown",
      "metadata": {
        "id": "fdIRfgihaeHV"
      },
      "source": [
        "<hr>"
      ]
    },
    {
      "cell_type": "markdown",
      "metadata": {
        "id": "ZYraafetaeHV"
      },
      "source": [
        "Write a while loop to copy the strings <code>'orange'</code> of the list <code>squares</code> to the list <code>new_squares</code>. Stop and exit the loop if the value on the list is not <code>'orange'</code>:"
      ]
    },
    {
      "cell_type": "code",
      "metadata": {
        "jupyter": {
          "outputs_hidden": false
        },
        "id": "b7UyK3HdaeHW",
        "outputId": "0bef1e47-f439-4f03-f5ca-ee7b6f11a8a6"
      },
      "source": [
        "# Write your code below and press Shift+Enter to execute\n",
        "\n",
        "squares = ['orange', 'orange', 'purple', 'blue ', 'orange']\n",
        "new_squares = []\n",
        "i = 0\n",
        "while(squares[i] == 'orange'):\n",
        "    new_squares.append(squares[i])\n",
        "    i = i + 1\n",
        "print(new_squares)"
      ],
      "execution_count": null,
      "outputs": [
        {
          "output_type": "stream",
          "text": [
            "['orange', 'orange']\n"
          ],
          "name": "stdout"
        }
      ]
    },
    {
      "cell_type": "code",
      "source": [
        "import pandas as pd\n",
        "from google.colab import files\n",
        "uploaded = files.upload()\n",
        "import io\n",
        "df2 = pd.read_csv(io.BytesIO(uploaded['IBBA_2145xx.csv']))\n",
        "print (df2)"
      ],
      "metadata": {
        "colab": {
          "resources": {
            "http://localhost:8080/nbextensions/google.colab/files.js": {
              "data": "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",
              "ok": true,
              "headers": [
                [
                  "content-type",
                  "application/javascript"
                ]
              ],
              "status": 200,
              "status_text": ""
            }
          },
          "base_uri": "https://localhost:8080/",
          "height": 107
        },
        "id": "nrSSrV5S_Sxs",
        "outputId": "a0251bae-b1d4-4a28-be2f-16a230c3d8f3"
      },
      "execution_count": null,
      "outputs": [
        {
          "output_type": "display_data",
          "data": {
            "text/html": [
              "\n",
              "     <input type=\"file\" id=\"files-b698a539-c5de-4dc3-ab77-0eb816ebe2ae\" name=\"files[]\" multiple disabled\n",
              "        style=\"border:none\" />\n",
              "     <output id=\"result-b698a539-c5de-4dc3-ab77-0eb816ebe2ae\">\n",
              "      Upload widget is only available when the cell has been executed in the\n",
              "      current browser session. Please rerun this cell to enable.\n",
              "      </output>\n",
              "      <script src=\"/nbextensions/google.colab/files.js\"></script> "
            ],
            "text/plain": [
              "<IPython.core.display.HTML object>"
            ]
          },
          "metadata": {}
        },
        {
          "output_type": "stream",
          "name": "stdout",
          "text": [
            "Saving IBBA_2145xx.csv to IBBA_2145xx (1).csv\n",
            "   Reg Number Name\n",
            "0      214501  Sai\n"
          ]
        }
      ]
    },
    {
      "cell_type": "code",
      "source": [
        "print (df2)"
      ],
      "metadata": {
        "colab": {
          "base_uri": "https://localhost:8080/"
        },
        "id": "ifBKSmgYEoco",
        "outputId": "6921d8b8-2bd1-435a-9c57-2ecc9742870d"
      },
      "execution_count": null,
      "outputs": [
        {
          "output_type": "stream",
          "name": "stdout",
          "text": [
            "   Reg Number Name\n",
            "0      214501  Sai\n"
          ]
        }
      ]
    },
    {
      "cell_type": "markdown",
      "metadata": {
        "id": "c8hneBjPaeHe"
      },
      "source": [
        "<hr>"
      ]
    }
  ]
}