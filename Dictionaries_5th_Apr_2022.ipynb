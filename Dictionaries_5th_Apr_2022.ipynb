{
  "nbformat": 4,
  "nbformat_minor": 0,
  "metadata": {
    "kernelspec": {
      "name": "python3",
      "display_name": "Python 3"
    },
    "colab": {
      "name": "Dictionaries_5th Apr 2022.ipynb",
      "provenance": []
    },
    "language_info": {
      "name": "python"
    }
  },
  "cells": [
    {
      "cell_type": "markdown",
      "metadata": {
        "id": "I_J0tdAStWbv"
      },
      "source": [
        "<h1>Dictionaries in Python</h1>"
      ]
    },
    {
      "cell_type": "markdown",
      "metadata": {
        "id": "IPl-VWuatWb0"
      },
      "source": [
        "<p><strong>Welcome!</strong> This notebook will teach you about the dictionaries in the Python Programming Language. By the end of this lab, you'll know the basics dictionary operations in Python, including what it is, and the operations on it.</p>"
      ]
    },
    {
      "cell_type": "markdown",
      "metadata": {
        "id": "PBMSTbiGtWb3"
      },
      "source": [
        "<h2>Table of Contents</h2>\n",
        "<div class=\"alert alert-block alert-info\" style=\"margin-top: 20px\">\n",
        "    <ul>\n",
        "        <li>\n",
        "            <a href=\"#dic\">Dictionaries</a>\n",
        "            <ul>\n",
        "                <li><a href=\"content\">What are Dictionaries?</a></li>\n",
        "                <li><a href=\"key\">Keys</a></li>\n",
        "            </ul>\n",
        "        </li>\n",
        "        <li>\n",
        "            <a href=\"#quiz\">Quiz on Dictionaries</a>\n",
        "        </li>\n",
        "    </ul>\n",
        "    <p>\n",
        "        Estimated time needed: <strong>20 min</strong>\n",
        "    </p>\n",
        "</div>\n",
        "\n",
        "<hr>"
      ]
    },
    {
      "cell_type": "markdown",
      "metadata": {
        "id": "pxZoK6shtWb4"
      },
      "source": [
        "<h2 id=\"Dic\">Dictionaries</h2>"
      ]
    },
    {
      "cell_type": "markdown",
      "metadata": {
        "id": "JjHOMLuBtWb7"
      },
      "source": [
        "<h3 id=\"content\">What are Dictionaries?</h3>"
      ]
    },
    {
      "cell_type": "markdown",
      "metadata": {
        "id": "19gSuxFktWb9"
      },
      "source": [
        "A dictionary consists of keys and values. It is helpful to compare a dictionary to a list. Instead of the numerical indexes such as a list, dictionaries have keys. These keys are the keys that are used to access values within a dictionary."
      ]
    },
    {
      "cell_type": "markdown",
      "metadata": {
        "id": "v4NzM-oetWb_"
      },
      "source": [
        "<img src=\"https://s3-api.us-geo.objectstorage.softlayer.net/cf-courses-data/CognitiveClass/PY0101EN/Chapter%202/Images/DictsList.png\" width=\"650\" />"
      ]
    },
    {
      "cell_type": "code",
      "source": [
        "eng2sp = dict()\n",
        "print(eng2sp)\n",
        "eng2sp['one'] = 'uno'\n",
        "print(eng2sp)\n",
        "eng2sp = {'one': 'uno', 'two': 'dos', 'three': 'tres'}\n",
        "print(eng2sp)"
      ],
      "metadata": {
        "colab": {
          "base_uri": "https://localhost:8080/"
        },
        "id": "WzC-KmgRUYBn",
        "outputId": "37cfb2c3-0401-4a1c-9ba6-47372d583bc1"
      },
      "execution_count": null,
      "outputs": [
        {
          "output_type": "stream",
          "name": "stdout",
          "text": [
            "{}\n",
            "{'one': 'uno'}\n",
            "{'one': 'uno', 'two': 'dos', 'three': 'tres'}\n"
          ]
        }
      ]
    },
    {
      "cell_type": "code",
      "source": [
        "print(eng2sp['two'])"
      ],
      "metadata": {
        "colab": {
          "base_uri": "https://localhost:8080/"
        },
        "id": "_W14unN6Y-Hx",
        "outputId": "324a6e94-aa81-4cab-926f-3ba59750a4b9"
      },
      "execution_count": null,
      "outputs": [
        {
          "output_type": "stream",
          "name": "stdout",
          "text": [
            "dos\n"
          ]
        }
      ]
    },
    {
      "cell_type": "code",
      "source": [
        "print(eng2sp['four'])"
      ],
      "metadata": {
        "colab": {
          "base_uri": "https://localhost:8080/",
          "height": 165
        },
        "id": "Wseitp4EZL3X",
        "outputId": "c1545796-91bb-49a0-86c9-c71925910c23"
      },
      "execution_count": null,
      "outputs": [
        {
          "output_type": "error",
          "ename": "KeyError",
          "evalue": "ignored",
          "traceback": [
            "\u001b[0;31m---------------------------------------------------------------------------\u001b[0m",
            "\u001b[0;31mKeyError\u001b[0m                                  Traceback (most recent call last)",
            "\u001b[0;32m<ipython-input-14-0c5b4554d872>\u001b[0m in \u001b[0;36m<module>\u001b[0;34m()\u001b[0m\n\u001b[0;32m----> 1\u001b[0;31m \u001b[0mprint\u001b[0m\u001b[0;34m(\u001b[0m\u001b[0meng2sp\u001b[0m\u001b[0;34m[\u001b[0m\u001b[0;34m'four'\u001b[0m\u001b[0;34m]\u001b[0m\u001b[0;34m)\u001b[0m\u001b[0;34m\u001b[0m\u001b[0;34m\u001b[0m\u001b[0m\n\u001b[0m",
            "\u001b[0;31mKeyError\u001b[0m: 'four'"
          ]
        }
      ]
    },
    {
      "cell_type": "code",
      "source": [
        "len(eng2sp)"
      ],
      "metadata": {
        "colab": {
          "base_uri": "https://localhost:8080/"
        },
        "id": "A7bzExNvZSZd",
        "outputId": "468076f5-eee5-4043-869f-0a8698a50260"
      },
      "execution_count": null,
      "outputs": [
        {
          "output_type": "execute_result",
          "data": {
            "text/plain": [
              "3"
            ]
          },
          "metadata": {},
          "execution_count": 15
        }
      ]
    },
    {
      "cell_type": "markdown",
      "source": [
        "Exercise 1: Download a copy of the file www.py4e.com/code3/words.txt\n",
        "Write a program that reads the words in words.txt and stores them as\n",
        "keys in a dictionary. It doesn’t matter what the values are. Then you\n",
        "can use the in operator as a fast way to check whether a string is in the\n",
        "dictionary."
      ],
      "metadata": {
        "id": "eUi-PtvedKan"
      }
    },
    {
      "cell_type": "markdown",
      "source": [
        "https://neptune.ai/blog/google-colab-dealing-with-files"
      ],
      "metadata": {
        "id": "MuH76KdAC0A3"
      }
    },
    {
      "cell_type": "code",
      "source": [
        "from google.colab import drive\n",
        "drive.mount('/content/drive', force_remount=1)"
      ],
      "metadata": {
        "colab": {
          "base_uri": "https://localhost:8080/"
        },
        "id": "uBnhrCp_Dd9Q",
        "outputId": "e540d5fb-d04c-4af1-bd3e-e681c0d30dfd"
      },
      "execution_count": null,
      "outputs": [
        {
          "output_type": "stream",
          "name": "stdout",
          "text": [
            "Mounted at /content/drive\n"
          ]
        }
      ]
    },
    {
      "cell_type": "code",
      "source": [
        "#Taking the text file as a string \n",
        "data = open(\"words.txt\").read()\n",
        "data"
      ],
      "metadata": {
        "colab": {
          "base_uri": "https://localhost:8080/",
          "height": 174
        },
        "id": "Qqbbv3SlDuV5",
        "outputId": "3bdc5bee-3226-4596-f06e-4f18b528ef20"
      },
      "execution_count": null,
      "outputs": [
        {
          "output_type": "execute_result",
          "data": {
            "text/plain": [
              "'Writing programs or programming is a very creative\\nand rewarding activity  You can write programs for\\nmany reasons ranging from making your living to solving\\na difficult data analysis problem to having fun to helping\\nsomeone else solve a problem  This book assumes that\\n{\\\\em everyone} needs to know how to program and that once\\nyou know how to program, you will figure out what you want\\nto do with your newfound skills\\n\\nWe are surrounded in our daily lives with computers ranging\\nfrom laptops to cell phones  We can think of these computers\\nas our personal assistants who can take care of many things\\non our behalf  The hardware in our current-day computers\\nis essentially built to continuously ask us the question\\nWhat would you like me to do next\\n\\nOur computers are fast and have vasts amounts of memory and \\ncould be very helpful to us if we only knew the language to \\nspeak to explain to the computer what we would like it to \\ndo next If we knew this language we could tell the \\ncomputer to do tasks on our behalf that were reptitive  \\nInterestingly, the kinds of things computers can do best\\nare often the kinds of things that we humans find boring\\nand mind-numbing\\n'"
            ],
            "application/vnd.google.colaboratory.intrinsic+json": {
              "type": "string"
            }
          },
          "metadata": {},
          "execution_count": 8
        }
      ]
    },
    {
      "cell_type": "code",
      "source": [
        "#Creating an empty dictionary to store words\n",
        "hw = dict()\n",
        "#Initiation of an empty string\n",
        "s = \"\" \n",
        "#This loop takes each letter in the data and does the following functions on it \n",
        "for j in data:\n",
        "  #This code checks if the letter is a continuation of a word or the end of it by checking the presence of a space\n",
        "  if j != \" \":\n",
        "    s = s + j\n",
        "  #If a space is found then a word is formed by adding all the letters since the previous space\n",
        "  #If the word hence formed exists in the dictionary already, then its count is increased by 1 and if it doesnt exist a new key is formed\n",
        "  else:\n",
        "    hw[s] = hw.get(s,0) + 1\n",
        "    #The string containing the word formed by joining the letters is emptied again to store the next word and so on \n",
        "    s = \"\"\n",
        "print(hw)"
      ],
      "metadata": {
        "colab": {
          "base_uri": "https://localhost:8080/"
        },
        "id": "OCp5mG7MDuMD",
        "outputId": "9b25e599-de9d-4e4b-f977-3a236fe6ec1e"
      },
      "execution_count": null,
      "outputs": [
        {
          "output_type": "stream",
          "name": "stdout",
          "text": [
            "{'Writing': 1, 'programs': 2, 'or': 1, 'programming': 1, 'is': 1, 'a': 2, 'very': 2, 'creative\\nand': 1, 'rewarding': 1, 'activity': 1, '': 5, 'You': 1, 'can': 4, 'write': 1, 'for\\nmany': 1, 'reasons': 1, 'ranging': 1, 'from': 1, 'making': 1, 'your': 2, 'living': 1, 'to': 15, 'solving\\na': 1, 'difficult': 1, 'data': 1, 'analysis': 1, 'problem': 2, 'having': 1, 'fun': 1, 'helping\\nsomeone': 1, 'else': 1, 'solve': 1, 'This': 1, 'book': 1, 'assumes': 1, 'that\\n{\\\\em': 1, 'everyone}': 1, 'needs': 1, 'know': 2, 'how': 2, 'program': 1, 'and': 3, 'that': 3, 'once\\nyou': 1, 'program,': 1, 'you': 3, 'will': 1, 'figure': 1, 'out': 1, 'what': 2, 'want\\nto': 1, 'do': 4, 'with': 2, 'newfound': 1, 'skills\\n\\nWe': 1, 'are': 2, 'surrounded': 1, 'in': 2, 'our': 5, 'daily': 1, 'lives': 1, 'computers': 3, 'ranging\\nfrom': 1, 'laptops': 1, 'cell': 1, 'phones': 1, 'We': 1, 'think': 1, 'of': 5, 'these': 1, 'computers\\nas': 1, 'personal': 1, 'assistants': 1, 'who': 1, 'take': 1, 'care': 1, 'many': 1, 'things\\non': 1, 'behalf': 2, 'The': 1, 'hardware': 1, 'current-day': 1, 'computers\\nis': 1, 'essentially': 1, 'built': 1, 'continuously': 1, 'ask': 1, 'us': 2, 'the': 6, 'question\\nWhat': 1, 'would': 2, 'like': 2, 'me': 1, 'next\\n\\nOur': 1, 'fast': 1, 'have': 1, 'vasts': 1, 'amounts': 1, 'memory': 1, '\\ncould': 1, 'be': 1, 'helpful': 1, 'if': 1, 'we': 5, 'only': 1, 'knew': 2, 'language': 2, '\\nspeak': 1, 'explain': 1, 'computer': 1, 'it': 1, '\\ndo': 1, 'next': 1, 'If': 1, 'this': 1, 'could': 1, 'tell': 1, '\\ncomputer': 1, 'tasks': 1, 'on': 1, 'were': 1, 'reptitive': 1, '\\nInterestingly,': 1, 'kinds': 2, 'things': 2, 'best\\nare': 1, 'often': 1, 'humans': 1, 'find': 1, 'boring\\nand': 1}\n"
          ]
        }
      ]
    },
    {
      "cell_type": "code",
      "source": [
        "vals = list(hw.values())"
      ],
      "metadata": {
        "id": "llz0WgajFEpy"
      },
      "execution_count": null,
      "outputs": []
    },
    {
      "cell_type": "code",
      "source": [
        "if \"programs\" in hw:\n",
        "  print(\"Present\")\n",
        "else:\n",
        "  print(\"Not Present\")"
      ],
      "metadata": {
        "colab": {
          "base_uri": "https://localhost:8080/"
        },
        "id": "1nIH11euFLFI",
        "outputId": "f0123c28-8a19-48d2-fc07-a6038509246f"
      },
      "execution_count": null,
      "outputs": [
        {
          "output_type": "stream",
          "name": "stdout",
          "text": [
            "Present\n"
          ]
        }
      ]
    },
    {
      "cell_type": "code",
      "source": [
        "import pandas as pd\n",
        "import numpy as np"
      ],
      "metadata": {
        "id": "NSJR3w55H7_2"
      },
      "execution_count": null,
      "outputs": []
    },
    {
      "cell_type": "code",
      "source": [
        "column_names = ['Word','Count']\n",
        "\n",
        "my_data_frame = pd.DataFrame(data = list(hw.items()), columns = column_names)\n",
        "\n",
        "print(my_data_frame)"
      ],
      "metadata": {
        "colab": {
          "base_uri": "https://localhost:8080/"
        },
        "id": "72OhjUdZIEHk",
        "outputId": "30f52cd5-e59d-4bc2-adc8-600725b4bd8e"
      },
      "execution_count": null,
      "outputs": [
        {
          "output_type": "stream",
          "name": "stdout",
          "text": [
            "            Word  Count\n",
            "0        Writing      1\n",
            "1       programs      2\n",
            "2             or      1\n",
            "3    programming      1\n",
            "4             is      1\n",
            "..           ...    ...\n",
            "125    best\\nare      1\n",
            "126        often      1\n",
            "127       humans      1\n",
            "128         find      1\n",
            "129  boring\\nand      1\n",
            "\n",
            "[130 rows x 2 columns]\n"
          ]
        }
      ]
    },
    {
      "cell_type": "code",
      "source": [
        "my_data_frame.plot(x ='Word', y='Count', kind = 'scatter')"
      ],
      "metadata": {
        "colab": {
          "base_uri": "https://localhost:8080/",
          "height": 320
        },
        "id": "zNVypIH-IKPZ",
        "outputId": "20371b5e-ee4e-4ca7-9b2b-e424720b698e"
      },
      "execution_count": null,
      "outputs": [
        {
          "output_type": "execute_result",
          "data": {
            "text/plain": [
              "<matplotlib.axes._subplots.AxesSubplot at 0x7ff287619590>"
            ]
          },
          "metadata": {},
          "execution_count": 18
        },
        {
          "output_type": "display_data",
          "data": {
            "text/plain": [
              "<Figure size 432x288 with 1 Axes>"
            ],
            "image/png": "[encoded data removed]"
          },
          "metadata": {
            "needs_background": "light"
          }
        }
      ]
    },
    {
      "cell_type": "markdown",
      "metadata": {
        "id": "98cu13A5tWcG"
      },
      "source": [
        "An example of a Dictionary <code>Dict</code>:"
      ]
    },
    {
      "cell_type": "code",
      "metadata": {
        "jupyter": {
          "outputs_hidden": false
        },
        "id": "xiEjsnrjtWcH",
        "colab": {
          "base_uri": "https://localhost:8080/"
        },
        "outputId": "31cfe9fa-e3ad-4e5c-f8e0-380cdcc24ab2"
      },
      "source": [
        "# Create the dictionary\n",
        "\n",
        "Dict = {\"key1\": 1, \"key2\": \"2\", \"key3\": [3, 3, 3], \"key4\": (4, 4, 4), ('key5'): 5, (0, 1): 6}\n",
        "Dict"
      ],
      "execution_count": null,
      "outputs": [
        {
          "output_type": "execute_result",
          "data": {
            "text/plain": [
              "{(0, 1): 6,\n",
              " 'key1': 1,\n",
              " 'key2': '2',\n",
              " 'key3': [3, 3, 3],\n",
              " 'key4': (4, 4, 4),\n",
              " 'key5': 5}"
            ]
          },
          "metadata": {},
          "execution_count": 7
        }
      ]
    },
    {
      "cell_type": "markdown",
      "metadata": {
        "id": "qRuv6pa3tWcL"
      },
      "source": [
        "The keys can be strings:"
      ]
    },
    {
      "cell_type": "code",
      "metadata": {
        "jupyter": {
          "outputs_hidden": false
        },
        "id": "V-h-vAMItWcM",
        "outputId": "ebe3dfba-d71b-43fb-9c27-afd82df5c71d",
        "colab": {
          "base_uri": "https://localhost:8080/"
        }
      },
      "source": [
        "# Access to the value by the key\n",
        "\n",
        "Dict[\"key4\"]"
      ],
      "execution_count": null,
      "outputs": [
        {
          "output_type": "execute_result",
          "data": {
            "text/plain": [
              "(4, 4, 4)"
            ]
          },
          "metadata": {},
          "execution_count": 10
        }
      ]
    },
    {
      "cell_type": "markdown",
      "metadata": {
        "id": "Ky9yJm-utWcO"
      },
      "source": [
        "Keys can also be any immutable object such as a tuple: "
      ]
    },
    {
      "cell_type": "code",
      "metadata": {
        "jupyter": {
          "outputs_hidden": false
        },
        "id": "CSLODD33tWcP",
        "outputId": "aa11cf46-2d90-49bb-ad66-9809e13a511f"
      },
      "source": [
        "# Access to the value by the key\n",
        "\n",
        "Dict[(0, 1)]"
      ],
      "execution_count": null,
      "outputs": [
        {
          "output_type": "execute_result",
          "data": {
            "text/plain": [
              "6"
            ]
          },
          "metadata": {
            "tags": []
          },
          "execution_count": 3
        }
      ]
    },
    {
      "cell_type": "markdown",
      "metadata": {
        "id": "iSYHK6NwtWcY"
      },
      "source": [
        " Each key is separated from its value by a colon \"<code>:</code>\".  Commas separate the items, and the whole dictionary is enclosed in curly braces. An empty dictionary without any items is written with just two curly braces, like this  \"<code>{}</code>\"."
      ]
    },
    {
      "cell_type": "code",
      "metadata": {
        "jupyter": {
          "outputs_hidden": false
        },
        "id": "bXmloThGtWcZ",
        "outputId": "5c61ebad-e8e4-484a-d383-99dd93ad66ac"
      },
      "source": [
        "# Create a sample dictionary\n",
        "\n",
        "release_year_dict = {\"Thriller\": \"1982\", \"Back in Black\": \"1980\", \\\n",
        "                    \"The Dark Side of the Moon\": \"1973\", \"The Bodyguard\": \"1992\", \\\n",
        "                    \"Bat Out of Hell\": \"1977\", \"Their Greatest Hits (1971-1975)\": \"1976\", \\\n",
        "                    \"Saturday Night Fever\": \"1977\", \"Rumours\": \"1977\"}\n",
        "release_year_dict"
      ],
      "execution_count": null,
      "outputs": [
        {
          "output_type": "execute_result",
          "data": {
            "text/plain": [
              "{'Thriller': '1982',\n",
              " 'Back in Black': '1980',\n",
              " 'The Dark Side of the Moon': '1973',\n",
              " 'The Bodyguard': '1992',\n",
              " 'Bat Out of Hell': '1977',\n",
              " 'Their Greatest Hits (1971-1975)': '1976',\n",
              " 'Saturday Night Fever': '1977',\n",
              " 'Rumours': '1977'}"
            ]
          },
          "metadata": {
            "tags": []
          },
          "execution_count": 4
        }
      ]
    },
    {
      "cell_type": "markdown",
      "metadata": {
        "id": "mn7mBtuVtWcb"
      },
      "source": [
        "In summary, like a list, a dictionary holds a sequence of elements. Each element is represented by a key and its corresponding value. Dictionaries are created with two curly braces containing keys and values separated by a colon. For every key, there can only be one single value, however,  multiple keys can hold the same value. Keys can only be strings, numbers, or tuples, but values can be any data type."
      ]
    },
    {
      "cell_type": "markdown",
      "metadata": {
        "id": "8YXHza5KtWci"
      },
      "source": [
        "It is helpful to visualize the dictionary as a table, as in the following image. The first column represents the keys, the second column represents the values."
      ]
    },
    {
      "cell_type": "markdown",
      "metadata": {
        "id": "kWerc-04tWcm"
      },
      "source": [
        "<img src=\"https://s3-api.us-geo.objectstorage.softlayer.net/cf-courses-data/CognitiveClass/PY0101EN/Chapter%202/Images/DictsStructure.png\" width=\"650\" />"
      ]
    },
    {
      "cell_type": "markdown",
      "metadata": {
        "id": "aBd_ocOKtWcn"
      },
      "source": [
        "<h3 id=\"key\">Keys</h3>"
      ]
    },
    {
      "cell_type": "markdown",
      "metadata": {
        "id": "2KTfnhsVtWcp"
      },
      "source": [
        "You can retrieve the values based on the names:"
      ]
    },
    {
      "cell_type": "code",
      "metadata": {
        "jupyter": {
          "outputs_hidden": false
        },
        "id": "CJglR2JftWcs",
        "outputId": "ea13f0c1-eee2-4cb7-b42f-5cbb80088bcc"
      },
      "source": [
        "# Get value by keys\n",
        "\n",
        "release_year_dict['Thriller'] "
      ],
      "execution_count": null,
      "outputs": [
        {
          "output_type": "execute_result",
          "data": {
            "text/plain": [
              "'1982'"
            ]
          },
          "metadata": {
            "tags": []
          },
          "execution_count": 5
        }
      ]
    },
    {
      "cell_type": "markdown",
      "metadata": {
        "id": "ctBOz-uGtWcu"
      },
      "source": [
        "This corresponds to: \n"
      ]
    },
    {
      "cell_type": "markdown",
      "metadata": {
        "id": "3krBLXF_tWcu"
      },
      "source": [
        "<img src=\"https://s3-api.us-geo.objectstorage.softlayer.net/cf-courses-data/CognitiveClass/PY0101EN/Chapter%202/Images/DictsKeyOne.png\" width=\"500\" />"
      ]
    },
    {
      "cell_type": "markdown",
      "metadata": {
        "id": "WeZkOTB5tWcv"
      },
      "source": [
        "Similarly for <b>The Bodyguard</b>"
      ]
    },
    {
      "cell_type": "code",
      "metadata": {
        "jupyter": {
          "outputs_hidden": false
        },
        "id": "XryTU7yptWcw",
        "outputId": "c82834c3-eaa7-436d-f658-f525bcb00645"
      },
      "source": [
        "# Get value by key\n",
        "\n",
        "release_year_dict['The Bodyguard'] "
      ],
      "execution_count": null,
      "outputs": [
        {
          "output_type": "execute_result",
          "data": {
            "text/plain": [
              "'1992'"
            ]
          },
          "metadata": {
            "tags": []
          },
          "execution_count": 6
        }
      ]
    },
    {
      "cell_type": "markdown",
      "metadata": {
        "id": "VjZAGt-btWcx"
      },
      "source": [
        "<img src=\"https://s3-api.us-geo.objectstorage.softlayer.net/cf-courses-data/CognitiveClass/PY0101EN/Chapter%202/Images/DictsKeyTwo.png\" width=\"500\" />"
      ]
    },
    {
      "cell_type": "markdown",
      "metadata": {
        "id": "udGIlmUktWcy"
      },
      "source": [
        "Now let you retrieve the keys of the dictionary using the method <code>release_year_dict()</code>:"
      ]
    },
    {
      "cell_type": "code",
      "metadata": {
        "jupyter": {
          "outputs_hidden": false
        },
        "id": "U-ND11G3tWc2",
        "outputId": "86504f7e-9022-4920-b0d8-a9e3d209f7b7"
      },
      "source": [
        "# Get all the keys in dictionary\n",
        "\n",
        "release_year_dict.keys() "
      ],
      "execution_count": null,
      "outputs": [
        {
          "output_type": "execute_result",
          "data": {
            "text/plain": [
              "dict_keys(['Thriller', 'Back in Black', 'The Dark Side of the Moon', 'The Bodyguard', 'Bat Out of Hell', 'Their Greatest Hits (1971-1975)', 'Saturday Night Fever', 'Rumours'])"
            ]
          },
          "metadata": {
            "tags": []
          },
          "execution_count": 7
        }
      ]
    },
    {
      "cell_type": "markdown",
      "metadata": {
        "id": "EvyOu0oqtWc3"
      },
      "source": [
        "You can retrieve the values using the method  <code>values()</code>:"
      ]
    },
    {
      "cell_type": "code",
      "metadata": {
        "jupyter": {
          "outputs_hidden": false
        },
        "id": "mKAoce4ytWc4",
        "outputId": "83bfb840-ef56-40b9-d59f-e99bdbdbab60"
      },
      "source": [
        "# Get all the values in dictionary\n",
        "\n",
        "release_year_dict.values() "
      ],
      "execution_count": null,
      "outputs": [
        {
          "output_type": "execute_result",
          "data": {
            "text/plain": [
              "dict_values(['1982', '1980', '1973', '1992', '1977', '1976', '1977', '1977'])"
            ]
          },
          "metadata": {
            "tags": []
          },
          "execution_count": 8
        }
      ]
    },
    {
      "cell_type": "markdown",
      "metadata": {
        "id": "akCbdGnOtWc5"
      },
      "source": [
        "We can add an entry:"
      ]
    },
    {
      "cell_type": "code",
      "metadata": {
        "jupyter": {
          "outputs_hidden": false
        },
        "id": "QrRe9A4ntWc6",
        "outputId": "727f9c7e-6407-48a0-ed01-f61ddcecf480"
      },
      "source": [
        "# Append value with key into dictionary\n",
        "\n",
        "release_year_dict['Graduation'] = '2007'\n",
        "release_year_dict"
      ],
      "execution_count": null,
      "outputs": [
        {
          "output_type": "execute_result",
          "data": {
            "text/plain": [
              "{'Thriller': '1982',\n",
              " 'Back in Black': '1980',\n",
              " 'The Dark Side of the Moon': '1973',\n",
              " 'The Bodyguard': '1992',\n",
              " 'Bat Out of Hell': '1977',\n",
              " 'Their Greatest Hits (1971-1975)': '1976',\n",
              " 'Saturday Night Fever': '1977',\n",
              " 'Rumours': '1977',\n",
              " 'Graduation': '2007'}"
            ]
          },
          "metadata": {
            "tags": []
          },
          "execution_count": 9
        }
      ]
    },
    {
      "cell_type": "markdown",
      "metadata": {
        "id": "gQOW78oXtWc8"
      },
      "source": [
        "We can delete an entry:   "
      ]
    },
    {
      "cell_type": "code",
      "metadata": {
        "jupyter": {
          "outputs_hidden": false
        },
        "id": "40CCOseetWc9",
        "outputId": "f4021078-da40-46a2-8362-6f9c384b82f7"
      },
      "source": [
        "# Delete entries by key\n",
        "\n",
        "del(release_year_dict['Thriller'])\n",
        "del(release_year_dict['Graduation'])\n",
        "release_year_dict"
      ],
      "execution_count": null,
      "outputs": [
        {
          "output_type": "execute_result",
          "data": {
            "text/plain": [
              "{'Back in Black': '1980',\n",
              " 'The Dark Side of the Moon': '1973',\n",
              " 'The Bodyguard': '1992',\n",
              " 'Bat Out of Hell': '1977',\n",
              " 'Their Greatest Hits (1971-1975)': '1976',\n",
              " 'Saturday Night Fever': '1977',\n",
              " 'Rumours': '1977'}"
            ]
          },
          "metadata": {
            "tags": []
          },
          "execution_count": 10
        }
      ]
    },
    {
      "cell_type": "markdown",
      "metadata": {
        "id": "LFHyN02CtWc_"
      },
      "source": [
        " We can verify if an element is in the dictionary: "
      ]
    },
    {
      "cell_type": "code",
      "metadata": {
        "jupyter": {
          "outputs_hidden": false
        },
        "id": "p0aGqZwxtWdA",
        "outputId": "7c36d4a7-7cab-40ea-cec4-66cbca565097"
      },
      "source": [
        "# Verify the key is in the dictionary\n",
        "\n",
        "'The Bodyguard' in release_year_dict"
      ],
      "execution_count": null,
      "outputs": [
        {
          "output_type": "execute_result",
          "data": {
            "text/plain": [
              "True"
            ]
          },
          "metadata": {
            "tags": []
          },
          "execution_count": 11
        }
      ]
    },
    {
      "cell_type": "markdown",
      "metadata": {
        "id": "dlGsKDLdtWdJ"
      },
      "source": [
        "<hr>"
      ]
    },
    {
      "cell_type": "markdown",
      "metadata": {
        "id": "KI78Ymw9tWdL"
      },
      "source": [
        "<h2 id=\"quiz\">Quiz on Dictionaries</h2>"
      ]
    },
    {
      "cell_type": "markdown",
      "metadata": {
        "id": "UwdwxRLptWdM"
      },
      "source": [
        "<b>You will need this dictionary for the next two questions:</b>"
      ]
    },
    {
      "cell_type": "code",
      "metadata": {
        "id": "CWWlR3yFtWdN",
        "outputId": "6cd57648-6088-4c23-f1ac-8fce347afb76"
      },
      "source": [
        "# Question sample dictionary\n",
        "\n",
        "soundtrack_dic = {\"The Bodyguard\":\"1992\", \"Saturday Night Fever\":\"1977\"}\n",
        "soundtrack_dic "
      ],
      "execution_count": null,
      "outputs": [
        {
          "output_type": "execute_result",
          "data": {
            "text/plain": [
              "{'The Bodyguard': '1992', 'Saturday Night Fever': '1977'}"
            ]
          },
          "metadata": {
            "tags": []
          },
          "execution_count": 12
        }
      ]
    },
    {
      "cell_type": "markdown",
      "metadata": {
        "id": "pn-xAqsrtWdO"
      },
      "source": [
        "a) In the dictionary <code>soundtrack_dict</code> what are the keys ?"
      ]
    },
    {
      "cell_type": "code",
      "metadata": {
        "id": "xM41A4TvtWdP",
        "outputId": "37a5fd2a-bcaa-4be2-f5b8-392c395fc832"
      },
      "source": [
        "# Write your code below and press Shift+Enter to execute\n",
        "soundtrack_dic.keys()"
      ],
      "execution_count": null,
      "outputs": [
        {
          "output_type": "execute_result",
          "data": {
            "text/plain": [
              "dict_keys(['The Bodyguard', 'Saturday Night Fever'])"
            ]
          },
          "metadata": {
            "tags": []
          },
          "execution_count": 13
        }
      ]
    },
    {
      "cell_type": "markdown",
      "metadata": {
        "id": "kRSd4jmJtWdQ"
      },
      "source": [
        "Double-click __here__ for the solution.\n",
        "\n",
        "<!-- Your answer is below:\n",
        "soundtrack_dic.keys() # The Keys \"The Bodyguard\" and \"Saturday Night Fever\" \n",
        "-->"
      ]
    },
    {
      "cell_type": "markdown",
      "metadata": {
        "id": "Ouy3Jw2JtWdR"
      },
      "source": [
        "b) In the dictionary <code>soundtrack_dict</code> what are the values ?"
      ]
    },
    {
      "cell_type": "code",
      "metadata": {
        "id": "YQyHePY0tWdS",
        "outputId": "855c8949-2bd8-412c-cf74-16608337b900"
      },
      "source": [
        "# Write your code below and press Shift+Enter to execute\n",
        "soundtrack_dic.values()\n"
      ],
      "execution_count": null,
      "outputs": [
        {
          "output_type": "execute_result",
          "data": {
            "text/plain": [
              "dict_values(['1992', '1977'])"
            ]
          },
          "metadata": {
            "tags": []
          },
          "execution_count": 14
        }
      ]
    },
    {
      "cell_type": "code",
      "metadata": {
        "id": "Pcp6Hdbr5sPa"
      },
      "source": [
        ""
      ],
      "execution_count": null,
      "outputs": []
    },
    {
      "cell_type": "markdown",
      "metadata": {
        "id": "xQ28cWiYtWdY"
      },
      "source": [
        "Double-click __here__ for the solution.\n",
        "\n",
        "<!-- Your answer is below:\n",
        "soundtrack_dic.values() # The values are \"1992\" and \"1977\"\n",
        "-->"
      ]
    },
    {
      "cell_type": "markdown",
      "metadata": {
        "id": "KqcBKn8mtWdb"
      },
      "source": [
        "<hr>"
      ]
    },
    {
      "cell_type": "markdown",
      "metadata": {
        "id": "Cyr1c98ztWdc"
      },
      "source": [
        "<b>You will need this dictionary for the following questions:</b>"
      ]
    },
    {
      "cell_type": "markdown",
      "metadata": {
        "id": "jf-Nu2w6tWdd"
      },
      "source": [
        "The Albums <b>Back in Black</b>, <b>The Bodyguard</b> and <b>Thriller</b> have the following music recording sales in millions 50, 50 and 65 respectively:"
      ]
    },
    {
      "cell_type": "markdown",
      "metadata": {
        "id": "E79_ZOh2tWde"
      },
      "source": [
        "a) Create a dictionary <code>album_sales_dict</code> where the keys are the album name and the sales in millions are the values. "
      ]
    },
    {
      "cell_type": "code",
      "metadata": {
        "id": "hOx_Kmc3tWde",
        "outputId": "2d6a4814-b87a-45a1-bf71-4242e9a81a6c"
      },
      "source": [
        "# Write your code below and press Shift+Enter to execute\n",
        "album_sales_dict = {\"Back in Black\": 50, \"The Bodyguard\":50, \"Thriller\":65}\n",
        "album_sales_dict"
      ],
      "execution_count": null,
      "outputs": [
        {
          "output_type": "execute_result",
          "data": {
            "text/plain": [
              "{'Back in Black': 50, 'The Bodyguard': 50, 'Thriller': 65}"
            ]
          },
          "metadata": {
            "tags": []
          },
          "execution_count": 16
        }
      ]
    },
    {
      "cell_type": "markdown",
      "metadata": {
        "id": "ZEUM2gvPtWdf"
      },
      "source": [
        "Double-click __here__ for the solution.\n",
        "\n",
        "<!-- Your answer is below:\n",
        "album_sales_dict = {\"The Bodyguard\":50, \"Back in Black\":50, \"Thriller\":65}\n",
        "-->"
      ]
    },
    {
      "cell_type": "markdown",
      "metadata": {
        "id": "tki4Tj-mtWdg"
      },
      "source": [
        "b) Use the dictionary to find the total sales of <b>Thriller</b>:"
      ]
    },
    {
      "cell_type": "code",
      "metadata": {
        "jupyter": {
          "outputs_hidden": false
        },
        "id": "G-fHvneLtWdh",
        "outputId": "a4dd59cb-e3da-4dc1-9bd6-c17acddaadad"
      },
      "source": [
        "# Write your code below and press Shift+Enter to execute\n",
        "album_sales_dict[\"Thriller\"]"
      ],
      "execution_count": null,
      "outputs": [
        {
          "output_type": "execute_result",
          "data": {
            "text/plain": [
              "65"
            ]
          },
          "metadata": {
            "tags": []
          },
          "execution_count": 17
        }
      ]
    },
    {
      "cell_type": "markdown",
      "metadata": {
        "id": "iDwDW4jMtWdj"
      },
      "source": [
        "Double-click __here__ for the solution.\n",
        "\n",
        "<!-- Your answer is below:\n",
        "album_sales_dict[\"Thriller\"]\n",
        "-->"
      ]
    },
    {
      "cell_type": "markdown",
      "metadata": {
        "id": "oWvUL92HtWdk"
      },
      "source": [
        "c) Find the names of the albums from the dictionary using the method <code>keys</code>:"
      ]
    },
    {
      "cell_type": "code",
      "metadata": {
        "jupyter": {
          "outputs_hidden": false
        },
        "id": "w4RJoJC5tWdk",
        "outputId": "3e83c8b5-ac88-4cb6-8414-3e3ccd5d01ec"
      },
      "source": [
        "# Write your code below and press Shift+Enter to execute\n",
        "album_sales_dict.keys()"
      ],
      "execution_count": null,
      "outputs": [
        {
          "output_type": "execute_result",
          "data": {
            "text/plain": [
              "dict_keys(['Back in Black', 'The Bodyguard', 'Thriller'])"
            ]
          },
          "metadata": {
            "tags": []
          },
          "execution_count": 18
        }
      ]
    },
    {
      "cell_type": "markdown",
      "metadata": {
        "id": "Sesz0f6FtWdo"
      },
      "source": [
        "Double-click __here__ for the solution.\n",
        "\n",
        "<!-- Your answer is below:\n",
        "album_sales_dict.keys()\n",
        "-->"
      ]
    },
    {
      "cell_type": "markdown",
      "metadata": {
        "id": "zVu4Moe8tWdq"
      },
      "source": [
        "d) Find the names of the recording sales from the dictionary using the method <code>values</code>:"
      ]
    },
    {
      "cell_type": "code",
      "metadata": {
        "jupyter": {
          "outputs_hidden": false
        },
        "id": "-tK_MwNltWdr",
        "outputId": "5c4f234c-cbfc-42ac-eef4-2d11247b82c6"
      },
      "source": [
        "# Write your code below and press Shift+Enter to execute\n",
        "album_sales_dict.values()"
      ],
      "execution_count": null,
      "outputs": [
        {
          "output_type": "execute_result",
          "data": {
            "text/plain": [
              "dict_values([50, 50, 65])"
            ]
          },
          "metadata": {
            "tags": []
          },
          "execution_count": 19
        }
      ]
    },
    {
      "cell_type": "markdown",
      "metadata": {
        "id": "DCWoo4FTtWds"
      },
      "source": [
        "Double-click __here__ for the solution.\n",
        "\n",
        "<!-- Your answer is below:\n",
        "album_sales_dict.values()\n",
        "-->"
      ]
    },
    {
      "cell_type": "code",
      "metadata": {
        "colab": {
          "base_uri": "https://localhost:8080/",
          "height": 35
        },
        "id": "rCqEnbzwDosV",
        "outputId": "ec77e262-53ca-4f9c-f55c-3b1c4cf6a2ff"
      },
      "source": [
        "pwd\n"
      ],
      "execution_count": null,
      "outputs": [
        {
          "output_type": "execute_result",
          "data": {
            "application/vnd.google.colaboratory.intrinsic+json": {
              "type": "string"
            },
            "text/plain": [
              "'/content'"
            ]
          },
          "metadata": {
            "tags": []
          },
          "execution_count": 4
        }
      ]
    },
    {
      "cell_type": "code",
      "metadata": {
        "colab": {
          "base_uri": "https://localhost:8080/"
        },
        "id": "PyrAJfGMEFRv",
        "outputId": "f4df6d30-6067-427f-cffa-1e24f57ff8e7"
      },
      "source": [
        "%ls"
      ],
      "execution_count": null,
      "outputs": [
        {
          "output_type": "stream",
          "text": [
            "\u001b[0m\u001b[01;34msample_data\u001b[0m/\n"
          ],
          "name": "stdout"
        }
      ]
    },
    {
      "cell_type": "code",
      "metadata": {
        "colab": {
          "base_uri": "https://localhost:8080/"
        },
        "id": "svuhr2q-EE9I",
        "outputId": "996a3123-faaa-4667-dcbf-5f0a3354ff8b"
      },
      "source": [
        "%cd sample_data/\n",
        "%ls"
      ],
      "execution_count": null,
      "outputs": [
        {
          "output_type": "stream",
          "text": [
            "[Errno 2] No such file or directory: 'sample_data/'\n",
            "/content/sample_data\n",
            "\u001b[0m\u001b[01;32manscombe.json\u001b[0m*                mnist_test.csv\n",
            "california_housing_test.csv   mnist_train_small.csv\n",
            "california_housing_train.csv  \u001b[01;32mREADME.md\u001b[0m*\n"
          ],
          "name": "stdout"
        }
      ]
    },
    {
      "cell_type": "markdown",
      "metadata": {
        "id": "AkzLEzHeFpp5"
      },
      "source": [
        "# New Section"
      ]
    },
    {
      "cell_type": "code",
      "metadata": {
        "id": "LCgbHo0YGGyt"
      },
      "source": [
        "from google.colab import drive\n",
        "drive.mount('/content/drive')"
      ],
      "execution_count": null,
      "outputs": []
    }
  ]
}